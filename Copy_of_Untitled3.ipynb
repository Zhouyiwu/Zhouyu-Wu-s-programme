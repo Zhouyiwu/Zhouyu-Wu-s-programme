{
  "nbformat": 4,
  "nbformat_minor": 0,
  "metadata": {
    "colab": {
      "provenance": [],
      "authorship_tag": "ABX9TyNesIX5FcZv4N0GW588f08g",
      "include_colab_link": true
    },
    "kernelspec": {
      "name": "python3",
      "display_name": "Python 3"
    },
    "language_info": {
      "name": "python"
    },
    "accelerator": "GPU",
    "gpuClass": "standard"
  },
  "cells": [
    {
      "cell_type": "markdown",
      "metadata": {
        "id": "view-in-github",
        "colab_type": "text"
      },
      "source": [
        "<a href=\"https://colab.research.google.com/github/Zhouyiwu/Zhouyu-Wu-s-programme/blob/master/Copy_of_Untitled3.ipynb\" target=\"_parent\"><img src=\"https://colab.research.google.com/assets/colab-badge.svg\" alt=\"Open In Colab\"/></a>"
      ]
    },
    {
      "cell_type": "code",
      "source": [
        "!unzip a.zip"
      ],
      "metadata": {
        "colab": {
          "base_uri": "https://localhost:8080/"
        },
        "id": "CPYM2kVhqRT4",
        "outputId": "bc754049-054a-4172-f020-d21f17a692e6"
      },
      "execution_count": null,
      "outputs": [
        {
          "output_type": "stream",
          "name": "stdout",
          "text": [
            "Archive:  a.zip\n",
            "b41b52e463f676dd7fdd5a48d85e1f6517830875\n",
            "   creating: nn-extrapolate-master/\n",
            "  inflating: nn-extrapolate-master/README.md  \n",
            "   creating: nn-extrapolate-master/feedforward/\n",
            "  inflating: nn-extrapolate-master/feedforward/MLP_with_relu_on_linear_data.sh  \n",
            "  inflating: nn-extrapolate-master/feedforward/MLP_with_relu_on_nonlinear_data.sh  \n",
            "  inflating: nn-extrapolate-master/feedforward/MLPs.py  \n",
            "  inflating: nn-extrapolate-master/feedforward/NTK.py  \n",
            "  inflating: nn-extrapolate-master/feedforward/NTK_main.py  \n",
            "  inflating: nn-extrapolate-master/feedforward/README.md  \n",
            "  inflating: nn-extrapolate-master/feedforward/data_generation.py  \n",
            "  inflating: nn-extrapolate-master/feedforward/main.py  \n",
            "   creating: nn-extrapolate-master/feedforward/sample_scripts/\n",
            "  inflating: nn-extrapolate-master/feedforward/sample_scripts/sample_cos.py  \n",
            "  inflating: nn-extrapolate-master/feedforward/sample_scripts/sample_direction.py  \n",
            "  inflating: nn-extrapolate-master/feedforward/sample_scripts/sample_l1.py  \n",
            "  inflating: nn-extrapolate-master/feedforward/sample_scripts/sample_linear.py  \n",
            "  inflating: nn-extrapolate-master/feedforward/sample_scripts/sample_quadratic.py  \n",
            "  inflating: nn-extrapolate-master/feedforward/sample_scripts/sample_sqrt.py  \n",
            "  inflating: nn-extrapolate-master/feedforward/sphere_rsquare.py  \n",
            "   creating: nn-extrapolate-master/graph_algorithms/\n",
            "  inflating: nn-extrapolate-master/graph_algorithms/README.md  \n",
            "  inflating: nn-extrapolate-master/graph_algorithms/main.py  \n",
            "  inflating: nn-extrapolate-master/graph_algorithms/maxdeg_generation.py  \n",
            "   creating: nn-extrapolate-master/graph_algorithms/models/\n",
            "  inflating: nn-extrapolate-master/graph_algorithms/models/MLPs.py  \n",
            " extracting: nn-extrapolate-master/graph_algorithms/models/__init__.py  \n",
            "  inflating: nn-extrapolate-master/graph_algorithms/models/base.py  \n",
            "  inflating: nn-extrapolate-master/graph_algorithms/models/gnn.py  \n",
            "  inflating: nn-extrapolate-master/graph_algorithms/models/gnn_edges.py  \n",
            "  inflating: nn-extrapolate-master/graph_algorithms/models/util.py  \n",
            "  inflating: nn-extrapolate-master/graph_algorithms/reproduce.sh  \n",
            "   creating: nn-extrapolate-master/graph_algorithms/sample_scripts/\n",
            "  inflating: nn-extrapolate-master/graph_algorithms/sample_scripts/sample_maxdeg_identical.py  \n",
            "  inflating: nn-extrapolate-master/graph_algorithms/sample_scripts/sample_maxdeg_uniform.py  \n",
            "  inflating: nn-extrapolate-master/graph_algorithms/sample_scripts/sample_shortest_uniform.py  \n",
            "  inflating: nn-extrapolate-master/graph_algorithms/shortest_generation.py  \n",
            "  inflating: nn-extrapolate-master/graph_algorithms/util.py  \n",
            "   creating: nn-extrapolate-master/n_body/\n",
            "  inflating: nn-extrapolate-master/n_body/MLPs.py  \n",
            "  inflating: nn-extrapolate-master/n_body/README.md  \n",
            "  inflating: nn-extrapolate-master/n_body/in_network.py  \n",
            "  inflating: nn-extrapolate-master/n_body/main.py  \n",
            "  inflating: nn-extrapolate-master/n_body/physics.py  \n",
            "  inflating: nn-extrapolate-master/n_body/reproduce.sh  \n",
            "  inflating: nn-extrapolate-master/n_body/util.py  \n",
            " extracting: nn-extrapolate-master/requirements.txt  \n"
          ]
        }
      ]
    },
    {
      "cell_type": "code",
      "source": [
        "pip install numpy"
      ],
      "metadata": {
        "colab": {
          "base_uri": "https://localhost:8080/"
        },
        "id": "Q7DjUy2yr2NU",
        "outputId": "79348c16-5af4-4a0c-b581-a17157330415"
      },
      "execution_count": null,
      "outputs": [
        {
          "output_type": "stream",
          "name": "stdout",
          "text": [
            "Looking in indexes: https://pypi.org/simple, https://us-python.pkg.dev/colab-wheels/public/simple/\n",
            "Requirement already satisfied: numpy in /usr/local/lib/python3.8/dist-packages (1.21.6)\n"
          ]
        }
      ]
    },
    {
      "cell_type": "code",
      "source": [
        "pip install torch-scatter torch-sparse torch-cluster torch-spline-conv torch-geometric -f https://data.pyg.org/whl/torch-1.13.0+cu117.html"
      ],
      "metadata": {
        "colab": {
          "base_uri": "https://localhost:8080/"
        },
        "id": "z2GghL7kntZU",
        "outputId": "78ffb695-6b7d-41e5-b8b7-3ec35cd67165"
      },
      "execution_count": null,
      "outputs": [
        {
          "output_type": "stream",
          "name": "stdout",
          "text": [
            "Looking in indexes: https://pypi.org/simple, https://us-python.pkg.dev/colab-wheels/public/simple/\n",
            "Looking in links: https://data.pyg.org/whl/torch-1.13.0+cu117.html\n",
            "Requirement already satisfied: torch-scatter in /usr/local/lib/python3.8/dist-packages (2.1.0+pt113cu117)\n",
            "Requirement already satisfied: torch-sparse in /usr/local/lib/python3.8/dist-packages (0.6.16+pt113cu117)\n",
            "Requirement already satisfied: torch-cluster in /usr/local/lib/python3.8/dist-packages (1.6.0+pt113cu117)\n",
            "Requirement already satisfied: torch-spline-conv in /usr/local/lib/python3.8/dist-packages (1.2.1+pt113cu117)\n",
            "Requirement already satisfied: torch-geometric in /usr/local/lib/python3.8/dist-packages (2.2.0)\n",
            "Requirement already satisfied: scipy in /usr/local/lib/python3.8/dist-packages (from torch-sparse) (1.7.3)\n",
            "Requirement already satisfied: jinja2 in /usr/local/lib/python3.8/dist-packages (from torch-geometric) (2.11.3)\n",
            "Requirement already satisfied: tqdm in /usr/local/lib/python3.8/dist-packages (from torch-geometric) (4.64.1)\n",
            "Requirement already satisfied: requests in /usr/local/lib/python3.8/dist-packages (from torch-geometric) (2.25.1)\n",
            "Requirement already satisfied: scikit-learn in /usr/local/lib/python3.8/dist-packages (from torch-geometric) (1.0.2)\n",
            "Requirement already satisfied: psutil>=5.8.0 in /usr/local/lib/python3.8/dist-packages (from torch-geometric) (5.9.4)\n",
            "Requirement already satisfied: numpy in /usr/local/lib/python3.8/dist-packages (from torch-geometric) (1.21.6)\n",
            "Requirement already satisfied: pyparsing in /usr/local/lib/python3.8/dist-packages (from torch-geometric) (3.0.9)\n",
            "Requirement already satisfied: MarkupSafe>=0.23 in /usr/local/lib/python3.8/dist-packages (from jinja2->torch-geometric) (2.0.1)\n",
            "Requirement already satisfied: urllib3<1.27,>=1.21.1 in /usr/local/lib/python3.8/dist-packages (from requests->torch-geometric) (1.24.3)\n",
            "Requirement already satisfied: chardet<5,>=3.0.2 in /usr/local/lib/python3.8/dist-packages (from requests->torch-geometric) (4.0.0)\n",
            "Requirement already satisfied: idna<3,>=2.5 in /usr/local/lib/python3.8/dist-packages (from requests->torch-geometric) (2.10)\n",
            "Requirement already satisfied: certifi>=2017.4.17 in /usr/local/lib/python3.8/dist-packages (from requests->torch-geometric) (2022.12.7)\n",
            "Requirement already satisfied: threadpoolctl>=2.0.0 in /usr/local/lib/python3.8/dist-packages (from scikit-learn->torch-geometric) (3.1.0)\n",
            "Requirement already satisfied: joblib>=0.11 in /usr/local/lib/python3.8/dist-packages (from scikit-learn->torch-geometric) (1.2.0)\n"
          ]
        }
      ]
    },
    {
      "cell_type": "code",
      "source": [
        "%cd nn-extrapolate-master/graph_algorithms"
      ],
      "metadata": {
        "colab": {
          "base_uri": "https://localhost:8080/"
        },
        "id": "ijchwrNekEWc",
        "outputId": "91668564-b8af-4224-a220-e15355ade26d"
      },
      "execution_count": null,
      "outputs": [
        {
          "output_type": "stream",
          "name": "stdout",
          "text": [
            "/content/nn-extrapolate-master/graph_algorithms\n"
          ]
        }
      ]
    },
    {
      "cell_type": "code",
      "source": [
        "import os\n",
        "import argparse\n",
        "import pickle\n",
        "import random\n",
        "import numpy as np\n",
        "import shutil\n",
        "import torch\n",
        "import networkx as nx\n",
        "from torch.autograd import Variable\n",
        "\n",
        "from models.gnn import GNN\n",
        "from models.gnn_edges import GNN_E\n",
        "from util import *\n",
        "import logging\n",
        "import math"
      ],
      "metadata": {
        "id": "O1pG9ozBkLon"
      },
      "execution_count": null,
      "outputs": []
    },
    {
      "cell_type": "code",
      "source": [
        "!python sample_scripts/sample_maxdeg_identical.py "
      ],
      "metadata": {
        "id": "i7FDHI_ilSYh"
      },
      "execution_count": null,
      "outputs": []
    },
    {
      "cell_type": "code",
      "source": [
        "!python main.py --model=GNN --n_iter=2 --weight=None --lr=0.01 --fc_output_layer=1 --mlp_layer=2 --hidden_dim=256 --batch_size=64  --graph_pooling_type=max --neighbor_pooling_type=sum --epochs=250 --data=maxdeg_identical_path_Ndim1_Train_V20_30_C1_Test_V50_100_C1.pickle"
      ],
      "metadata": {
        "id": "gRq6A6aFmKm0"
      },
      "execution_count": null,
      "outputs": []
    }
  ]
}